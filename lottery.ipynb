{
  "nbformat": 4,
  "nbformat_minor": 0,
  "metadata": {
    "colab": {
      "name": "lottery.ipynb",
      "provenance": [],
      "collapsed_sections": [],
      "authorship_tag": "ABX9TyNO8PLeWe+7Fg7tuMpmuNzU",
      "include_colab_link": true
    },
    "kernelspec": {
      "name": "python3",
      "display_name": "Python 3"
    },
    "language_info": {
      "name": "python"
    }
  },
  "cells": [
    {
      "cell_type": "markdown",
      "metadata": {
        "id": "view-in-github",
        "colab_type": "text"
      },
      "source": [
        "<a href=\"https://colab.research.google.com/github/shin2z/lottery_6/blob/main/lottery.ipynb\" target=\"_parent\"><img src=\"https://colab.research.google.com/assets/colab-badge.svg\" alt=\"Open In Colab\"/></a>"
      ]
    },
    {
      "cell_type": "markdown",
      "metadata": {
        "id": "ZZCOaU5S-tJw"
      },
      "source": [
        "**ロト6のシミュレーション**"
      ]
    },
    {
      "cell_type": "markdown",
      "metadata": {
        "id": "nWT3qG-wDJa1"
      },
      "source": [
        "宝くじでお金儲けしよう！\n",
        "\n",
        "\n",
        "**☆当選条件☆**\n",
        "\n",
        "1等は、申し込み数字が本数字6個すべてに一致している場合。\n",
        "\n",
        "2等は、本数字5個＋ボーナス数字1個と一致。\n",
        "\n",
        "3等は、本数字5個と一致。\n",
        "\n",
        "4等は、本数字4個と一致。\n",
        "\n",
        "5等は、本数字3個と一致。\n",
        "\n",
        "「数値の並び順は関係ない。数字は1～43まで選択肢がある」\n",
        "\n"
      ]
    },
    {
      "cell_type": "code",
      "metadata": {
        "id": "ZvA4_uBbFjdZ"
      },
      "source": [
        "#import一覧\n",
        "import numpy as np\n",
        "import numpy.random as rd\n",
        "import random\n",
        "import re\n",
        "import pandas as pd\n",
        "from time import sleep\n",
        "import decimal"
      ],
      "execution_count": null,
      "outputs": []
    },
    {
      "cell_type": "code",
      "metadata": {
        "id": "995vnCRYD7Rz"
      },
      "source": [
        "#当選金額\n",
        "prize_1st = 200000000\n",
        "prize_2st = 10000000\n",
        "prize_3st = 300000\n",
        "prize_4st = 6800\n",
        "prize_5st = 1000\n",
        "no_prize = 0"
      ],
      "execution_count": null,
      "outputs": []
    },
    {
      "cell_type": "code",
      "metadata": {
        "id": "zfE4_VC2VBpH"
      },
      "source": [
        "#文字列から数値だけを抽出する\n",
        "def numerical(string):\n",
        "  num = re.sub(\"\\\\D\",\"\",string)\n",
        "  x = int(num)\n",
        "  return x"
      ],
      "execution_count": null,
      "outputs": []
    },
    {
      "cell_type": "code",
      "metadata": {
        "id": "8GK_kZNTnp_h"
      },
      "source": [
        "#ロト6をx枚買った時の残金\n",
        "def kounyuu(funds,tickts):\n",
        "  return funds-200*tickts"
      ],
      "execution_count": null,
      "outputs": []
    },
    {
      "cell_type": "code",
      "metadata": {
        "id": "no1Tx5maDoqK"
      },
      "source": [
        "#6桁の数値をランダムに決め、リストにして返す関数(購入したチケットの番号)\n",
        "def numbers_select(tickets_num):\n",
        "  numbers = []\n",
        "  for _ in range(tickets_num):\n",
        "    numbers.append(tuple(np.array(random.sample(range(1,44),6))))\n",
        "  return numbers"
      ],
      "execution_count": null,
      "outputs": []
    },
    {
      "cell_type": "code",
      "metadata": {
        "id": "jzfKo8bsRDjV"
      },
      "source": [
        "#6桁の数値をランダムに決め、リストにして返す関数(当選番号)\n",
        "def this_number_select():\n",
        "  return [(tuple(np.array(random.sample(range(1,44),6))))]"
      ],
      "execution_count": null,
      "outputs": []
    },
    {
      "cell_type": "code",
      "metadata": {
        "id": "jk-2SP_qJmUp"
      },
      "source": [
        "#ボーナス数字を決めて返す関数\n",
        "def bonus_number_select(this_number):\n",
        "  while True:\n",
        "    bonus_number = rd.randint(1,44)\n",
        "    if bonus_number not in this_number:\n",
        "      break\n",
        "  return bonus_number"
      ],
      "execution_count": null,
      "outputs": []
    },
    {
      "cell_type": "code",
      "metadata": {
        "id": "VQuNnZl0Jkku"
      },
      "source": [
        "#購入したロト6の番号の表を作成する関数\n",
        "def create_table(numbers):\n",
        "  table = pd.DataFrame(numbers)\n",
        "  ticket_list = []\n",
        "  number_list = []\n",
        "\n",
        "  for count in range(1,len(numbers)+1):\n",
        "    ticket_list.append(\"{}枚目\".format(count))\n",
        "  table.index = ticket_list\n",
        "\n",
        "  for count_2 in range(1,7):\n",
        "    number_list.append(\"{}桁\".format(count_2))\n",
        "  table.columns = number_list\n",
        "\n",
        "  return table"
      ],
      "execution_count": null,
      "outputs": []
    },
    {
      "cell_type": "code",
      "metadata": {
        "id": "M7l4QtNn-JkV"
      },
      "source": [
        "#購入したロト6の番号の表を作成する関数  ver2\n",
        "def create_table(numbers):\n",
        "  ticket_list = []\n",
        "  number_list = []\n",
        "\n",
        "  for count in range(1,len(numbers)+1):\n",
        "    ticket_list.append(\"{}sheet\".format(count))\n",
        "\n",
        "  for count_2 in range(1,7):\n",
        "    number_list.append(\"{}st\".format(count_2))\n",
        "\n",
        "  table = pd.DataFrame(numbers,columns=number_list,index=ticket_list)\n",
        "\n",
        "  return table"
      ],
      "execution_count": null,
      "outputs": []
    },
    {
      "cell_type": "code",
      "metadata": {
        "id": "bCgJh9WLO-Fh"
      },
      "source": [
        "#ロト6の当選番号の表を作成する関数\n",
        "def create_this_table(numbers):\n",
        "  number_list = []\n",
        "  for count_2 in range(1,7):\n",
        "    number_list.append(\"{}st\".format(count_2))\n",
        "\n",
        "  table = pd.DataFrame(numbers,columns=number_list,index=[\"Winning Number\"])\n",
        "\n",
        "  return table"
      ],
      "execution_count": null,
      "outputs": []
    },
    {
      "cell_type": "code",
      "metadata": {
        "id": "KDVlJW6jMOMx"
      },
      "source": [
        "#当選していた宝くじだけを表示する。\n",
        "def display_numbers(numbers,this_number,bonus_number):\n",
        "  list_5st = []\n",
        "  list_4st = []\n",
        "  list_3st = []\n",
        "  list_2st = []\n",
        "  list_1st = []\n",
        "  ticket_list = []\n",
        "  number_list = []\n",
        "\n",
        "  #有効桁数2桁\n",
        "  decimal.getcontext().prec = 3\n",
        "\n",
        "  for count in range(1,7):\n",
        "    number_list.append(\"{}st\".format(count))\n",
        "\n",
        "  number_of_winners = 0\n",
        "\n",
        "  for li in numbers:\n",
        "    for x in li:\n",
        "      if x in this_number[0]:\n",
        "        number_of_winners += 1\n",
        "    \n",
        "    if number_of_winners == 3:\n",
        "      list_5st.append(li)\n",
        "    elif number_of_winners == 4:\n",
        "      list_4st.append(li)\n",
        "    elif number_of_winners == 5 and bonus_number not in li:\n",
        "      list_3st.append(li)\n",
        "    elif number_of_winners == 5 and bonus_number in li:\n",
        "      list_2st.append(li)\n",
        "    elif number_of_winners == 6:\n",
        "      list_1st.append(li)\n",
        "    number_of_winners = 0\n",
        "  \n",
        "  #当選していたのが何等なのか表示する\n",
        "  if len(list_5st) > 0:\n",
        "    print(\"5等一覧\")\n",
        "    for count in range(1,len(list_5st)+1):\n",
        "      ticket_list.append(\"{}sheet\".format(count))\n",
        "    print(\"\\n本数：{}本  確率：{}%　　公表確率：約{}%\".format(len(list_5st), decimal.Decimal(len(list_5st))/decimal.Decimal(tickets)*100, 2.55))\n",
        "    print(pd.DataFrame(list_5st,columns=number_list,index=ticket_list))\n",
        "    ticket_list.clear()\n",
        "  else:\n",
        "    print(\"5等は1つもありませんでした。\")\n",
        "  \n",
        "  if len(list_4st) > 0:\n",
        "    print(\"\\n4等一覧\")\n",
        "    for count in range(1,len(list_4st)+1):\n",
        "      ticket_list.append(\"{}sheet\".format(count))\n",
        "    print(\"\\n本数：{}本  確率：{}%　　公表確率：約{}%\".format(len(list_4st), decimal.Decimal(len(list_4st))/decimal.Decimal(tickets)*100, 0.164))\n",
        "    print(pd.DataFrame(list_4st,columns=number_list,index=ticket_list))\n",
        "    ticket_list.clear()\n",
        "  else:\n",
        "    print(\"\\n4等は1つもありませんでした。\")\n",
        "  \n",
        "  if len(list_3st) > 0:\n",
        "    print(\"\\n3等一覧\")\n",
        "    for count in range(1,len(list_3st)+1):\n",
        "      ticket_list.append(\"{}sheet\".format(count))\n",
        "    print(\"\\n本数：{}本  確率：{}%　　公表確率：約{}%\".format(len(list_3st), decimal.Decimal(len(list_3st))/decimal.Decimal(tickets)*100, 0.00354))\n",
        "    print(pd.DataFrame(list_3st,columns=number_list,index=ticket_list))\n",
        "    ticket_list.clear()\n",
        "  else:\n",
        "    print(\"\\n3等は1つもありませんでした。\")\n",
        "  \n",
        "  if len(list_2st) > 0:\n",
        "    print(\"\\n2等一覧\")\n",
        "    for count in range(1,len(list_2st)+1):\n",
        "      ticket_list.append(\"{}sheet\".format(count))\n",
        "    print(\"\\n本数：{}本  確率：{}%　　公表確率：約{}%\".format(len(list_2st), decimal.Decimal(len(list_2st))/decimal.Decimal(tickets)*100, 0.00009))\n",
        "    print(pd.DataFrame(list_2st,columns=number_list,index=ticket_list))\n",
        "    ticket_list.clear()\n",
        "  else:\n",
        "    print(\"\\n2等は1つもありませんでした。\")\n",
        "  \n",
        "  if len(list_1st) > 0:\n",
        "    print(\"\\n1等一覧\")\n",
        "    for count in range(1,len(list_1st)+1):\n",
        "      ticket_list.append(\"{}sheet\".format(count))    \n",
        "    print(\"\\n本数：{}本  確率：{}%　　公表確率：約{}%\".format(len(list_1st), decimal.Decimal(len(list_1st))/decimal.Decimal(tickets)*100, 0.00001))\n",
        "    print(pd.DataFrame(list_1st,columns=number_list,index=ticket_list))\n",
        "    ticket_list.clear()\n",
        "  else:\n",
        "    print(\"\\n1等は1つもありませんでした。\")"
      ],
      "execution_count": null,
      "outputs": []
    },
    {
      "cell_type": "code",
      "metadata": {
        "id": "DmzlqqL0Bx8b"
      },
      "source": [
        "#当選していた宝くじの合計金額を求める関数\n",
        "def pullout_winning_lottery(numbers,this_number,bonus_number):\n",
        "  winning_list = []\n",
        "  number_of_winners = 0\n",
        "\n",
        "  for li in numbers:\n",
        "    for x in li:\n",
        "      if x in this_number[0]:\n",
        "        number_of_winners += 1\n",
        "\n",
        "    if number_of_winners < 3:\n",
        "      winning_list.append(no_prize)\n",
        "    elif number_of_winners == 3:\n",
        "      winning_list.append(prize_5st)\n",
        "    elif number_of_winners == 4:\n",
        "      winning_list.append(prize_4st)\n",
        "    elif number_of_winners == 5 and bonus_number not in li:\n",
        "      winning_list.append(prize_3st)\n",
        "    elif number_of_winners == 5 and bonus_number in li:\n",
        "      winning_list.append(prize_2st)\n",
        "    elif number_of_winners == 6:\n",
        "      winning_list.append(prize_1st)\n",
        "\n",
        "    number_of_winners = 0\n",
        "  \n",
        "  #すべての当選金額の合計を求める\n",
        "  winning_amount_x = sum(winning_list)\n",
        "\n",
        "  return winning_amount_x"
      ],
      "execution_count": null,
      "outputs": []
    },
    {
      "cell_type": "code",
      "metadata": {
        "id": "ema8HnuXSTHC"
      },
      "source": [
        "#称号を返す関数\n",
        "def title(funds):\n",
        "  if funds < 100000:\n",
        "    return \"☆帝愛　地下労働施設行き☆\"\n",
        "  elif funds >= 100000 and funds < 500000:\n",
        "    return \"☆働きましょう☆\"\n",
        "  elif funds >= 500000 and funds < 8000000:\n",
        "    return \"☆負け犬☆\"\n",
        "  elif funds >= 8000000 and funds < 10000000:\n",
        "    return \"☆堅実な性格の持ち主☆\"\n",
        "  elif funds >= 10000000 and funds < 30000000:\n",
        "    return \"☆強運の持ち主☆\"\n",
        "  elif funds >= 30000000 and funds < 70000000:\n",
        "    return \"☆ロト6を極めし者☆\"\n",
        "  elif funds >= 70000000 and funds < 100000000:\n",
        "    return \"☆下剋上☆\"\n",
        "  elif funds >= 100000000:\n",
        "    return \"☆今年の最後にロト6買いましょう☆\""
      ],
      "execution_count": null,
      "outputs": []
    },
    {
      "cell_type": "code",
      "metadata": {
        "id": "dmzi7uJVD3nv",
        "colab": {
          "base_uri": "https://localhost:8080/"
        },
        "outputId": "4ba49ca1-219e-46d9-985f-dddad083616b"
      },
      "source": [
        "#main文\n",
        "#全財産：1000万円\n",
        "military_funds = 10000000\n",
        "print(\"「ロト6で目指せ！　億万長者ッッ！！」\\n\")\n",
        "sleep(2)\n",
        "\n",
        "while True:\n",
        "  #処理文\n",
        "  max_ticket = military_funds//200\n",
        "\n",
        "  #表示文\n",
        "  print(\"現在あなたの全財産は【{:>10,}】円です。\".format(military_funds))\n",
        "  while True:\n",
        "    tickets = numerical(input(\"1枚200円のロト6を何枚お買い上げになりますか？(最大枚数：{}枚)\".format(max_ticket)))\n",
        "    if tickets > max_ticket:\n",
        "      print(\"現在のあなたのお金では、{}枚も買うことができません！\\nもう一度やり直してください。\".format(tickets))\n",
        "      continue\n",
        "    else:\n",
        "      break\n",
        "\n",
        "  #処理文\n",
        "  military_funds = kounyuu(military_funds,tickets)\n",
        "  numbers = numbers_select(tickets)\n",
        "  this_number = this_number_select()\n",
        "  bonus_number = bonus_number_select(this_number)\n",
        "  numbers_table = create_table(numbers)\n",
        "  this_number_table = create_this_table(this_number)\n",
        "  winning_amount = pullout_winning_lottery(numbers,this_number,bonus_number)\n",
        "\n",
        "  #表示文\n",
        "  print(\"あなたの所持金は【{:>10,}】円になりました。\\n\".format(military_funds))\n",
        "  sleep(2)\n",
        "  print(\"あなたの購入したロト6の番号はこちらになります。\")\n",
        "  print(numbers_table)\n",
        "  print(\"\\n\")\n",
        "  sleep(2)\n",
        "  print(\"今回の当選番号と、ボーナス数字です。\")\n",
        "  print(this_number_table)\n",
        "  print(\"\\n\")\n",
        "  print(f\"ボーナス数字：{bonus_number}\")\n",
        "  print(\"\\n\")\n",
        "  sleep(3)\n",
        "  print(\"今回のあなたの当選結果はこちらのようになりました。\\n\")\n",
        "  display_numbers(numbers,this_number,bonus_number)\n",
        "  print(\"\\n当選金額：【{:>10,}】\".format(winning_amount))\n",
        "\n",
        "  #処理文\n",
        "  military_funds += winning_amount\n",
        "  if military_funds < 200:\n",
        "    break\n",
        "\n",
        "  #表示文\n",
        "  print(\"現在の所持金：【{:>10,}】\".format(military_funds))\n",
        "  sleep(4)\n",
        "  print(\"\\nもう一度ロト6を買いますか？\")\n",
        "  answer = input(\"Yes or No?\")\n",
        "  \n",
        "  #処理文\n",
        "  no_list = [\"NO\",\"No\",\"no\",\"の\"]\n",
        "  if answer in no_list:\n",
        "    break\n",
        "  numbers.clear()\n",
        "  this_number.clear()\n",
        "  winning_amount = 0\n",
        "\n",
        "print(\"\\n【結果発表】\\n所持金：{:>10,}\\n称号：{}\".format(military_funds,title(military_funds)))"
      ],
      "execution_count": null,
      "outputs": [
        {
          "output_type": "stream",
          "name": "stdout",
          "text": [
            "「ロト6で目指せ！　億万長者ッッ！！」\n",
            "\n",
            "現在あなたの全財産は【100,000,000】円です。\n",
            "1枚200円のロト6を何枚お買い上げになりますか？(最大枚数：500000枚)５０００００\n",
            "あなたの所持金は【         0】円になりました。\n",
            "\n",
            "あなたの購入したロト6の番号はこちらになります。\n",
            "             1st  2st  3st  4st  5st  6st\n",
            "1sheet        13   14   28   42   10   27\n",
            "2sheet        31   20    4   13   33   26\n",
            "3sheet        16   17   21    4   31   34\n",
            "4sheet        23   38   16   42   12    1\n",
            "5sheet        35   30   17   22   26   34\n",
            "...          ...  ...  ...  ...  ...  ...\n",
            "499996sheet    1   19   40   32   16   15\n",
            "499997sheet   11   30   18   16   10   38\n",
            "499998sheet   29    6    4   20   12   41\n",
            "499999sheet   15    9   22   21   37    7\n",
            "500000sheet   19    2   26   34   15   11\n",
            "\n",
            "[500000 rows x 6 columns]\n",
            "\n",
            "\n",
            "今回の当選番号と、ボーナス数字です。\n",
            "                1st  2st  3st  4st  5st  6st\n",
            "Winning Number   15   14   10   25   35   39\n",
            "\n",
            "\n",
            "ボーナス数字：42\n",
            "\n",
            "\n",
            "今回のあなたの当選結果はこちらのようになりました。\n",
            "\n",
            "5等一覧\n",
            "\n",
            "本数：12679本  確率：2.54%　　公表確率：約2.55%\n",
            "            1st  2st  3st  4st  5st  6st\n",
            "1sheet       15   10   18    6   35   13\n",
            "2sheet       14   26    3   25   10    9\n",
            "3sheet       26   39   35   34   30   10\n",
            "4sheet       35   22   37   10   39   34\n",
            "5sheet       14   15   21   29   17   10\n",
            "...         ...  ...  ...  ...  ...  ...\n",
            "12675sheet   17    6   25   10   15   40\n",
            "12676sheet   25   10   12   39   26   24\n",
            "12677sheet   19   25   42   35   24   14\n",
            "12678sheet   14   25   24   35   32   42\n",
            "12679sheet   15   17   36   43   39   25\n",
            "\n",
            "[12679 rows x 6 columns]\n",
            "\n",
            "4等一覧\n",
            "\n",
            "本数：814本  確率：0.163%　　公表確率：約0.164%\n",
            "          1st  2st  3st  4st  5st  6st\n",
            "1sheet     35   25   15   42   14   13\n",
            "2sheet     35   17   15    5   14   25\n",
            "3sheet     14   33   25   35    4   10\n",
            "4sheet      4   10   32   35   14   15\n",
            "5sheet     41   39   15    2   14   10\n",
            "...       ...  ...  ...  ...  ...  ...\n",
            "810sheet   35   25   15    3   10   18\n",
            "811sheet   15   40   35   25   39   20\n",
            "812sheet   14   15   23   16   10   25\n",
            "813sheet   14   10   25   15   26   19\n",
            "814sheet   35   19   10   39   25   23\n",
            "\n",
            "[814 rows x 6 columns]\n",
            "\n",
            "3等一覧\n",
            "\n",
            "本数：12本  確率：0.00240%　　公表確率：約0.00354%\n",
            "         1st  2st  3st  4st  5st  6st\n",
            "1sheet    38   39   14   15   25   35\n",
            "2sheet    15   14    5   25   35   10\n",
            "3sheet    15   10   25   34   39   35\n",
            "4sheet    25   15   24   35   10   39\n",
            "5sheet    35   10   39   14   15   21\n",
            "6sheet    39   35   15   31   25   14\n",
            "7sheet    35   16   39   10   15   25\n",
            "8sheet    35   12   14   15   10   25\n",
            "9sheet    39   35   14   25   15   31\n",
            "10sheet   19   39   14   25   35   15\n",
            "11sheet   35   10   15    8   39   25\n",
            "12sheet   10   35   11   39   15   25\n",
            "\n",
            "2等は1つもありませんでした。\n",
            "\n",
            "1等は1つもありませんでした。\n",
            "\n",
            "当選金額：【21,814,200】\n",
            "現在の所持金：【21,814,200】\n",
            "\n",
            "もう一度ロト6を買いますか？\n",
            "Yes or No?no\n",
            "\n",
            "【結果発表】\n",
            "所持金：21,814,200\n",
            "称号：☆強運の持ち主☆\n"
          ]
        }
      ]
    },
    {
      "cell_type": "markdown",
      "metadata": {
        "id": "I9hovAZyEDJ9"
      },
      "source": [
        "宝くじシミュレーター\n"
      ]
    }
  ]
}